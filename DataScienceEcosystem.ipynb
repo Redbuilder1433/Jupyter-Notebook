{
 "cells": [
  {
   "cell_type": "markdown",
   "id": "fcf03475-c020-473f-a2f7-1d24a8992c41",
   "metadata": {
    "editable": true,
    "slideshow": {
     "slide_type": ""
    },
    "tags": []
   },
   "source": [
    "# Data Science Tools and Ecosystem"
   ]
  },
  {
   "cell_type": "markdown",
   "id": "3263f8a5-a51b-4105-a640-bd455b8225bf",
   "metadata": {},
   "source": [
    "In this notebook, Data Science Tools and Ecosystem are summarized."
   ]
  },
  {
   "cell_type": "markdown",
   "id": "c8a2b7bf-070b-4bdc-af39-de7791d5c67e",
   "metadata": {},
   "source": [
    "Some of the popular languages that Data Scientists use are:\n",
    "1. Python\n",
    "2. R\n",
    "3. C++ "
   ]
  },
  {
   "cell_type": "markdown",
   "id": "cabe1aed-ce80-41ec-b9c5-770f435c7232",
   "metadata": {},
   "source": [
    "Some of the commonly used libraries used by Data Scientists include:\n",
    "1. Pandas\n",
    "2. Numpy\n",
    "3. Sci-kit Learn"
   ]
  },
  {
   "cell_type": "markdown",
   "id": "b2d0a146-52d8-4184-984b-cf6a96f19bd7",
   "metadata": {},
   "source": [
    "| Data Science Tools |\n",
    "|----------|\n",
    "| Pandas | \n",
    "| Numpy |\n",
    "| Sci-kit Learn |"
   ]
  },
  {
   "cell_type": "markdown",
   "id": "7e3cabf2-9005-4cad-8c31-c0e7e2edf7ed",
   "metadata": {},
   "source": [
    "### Below are a few examples of evaluating arithmetic expressions in Python"
   ]
  },
  {
   "cell_type": "code",
   "execution_count": 1,
   "id": "a612f054-8d58-4033-bddb-fcab67af13ad",
   "metadata": {},
   "outputs": [
    {
     "data": {
      "text/plain": [
       "17"
      ]
     },
     "execution_count": 1,
     "metadata": {},
     "output_type": "execute_result"
    }
   ],
   "source": [
    "# This a simple arithmetic expression to mutiply then add integers\n",
    "(3*4) + 5"
   ]
  },
  {
   "cell_type": "markdown",
   "id": "7928f82d-93fb-4154-a59d-c69c953826b9",
   "metadata": {},
   "source": [
    "## Author\n",
    "Aodhan Bell"
   ]
  }
 ],
 "metadata": {
  "kernelspec": {
   "display_name": "Python 3 (ipykernel)",
   "language": "python",
   "name": "python3"
  },
  "language_info": {
   "codemirror_mode": {
    "name": "ipython",
    "version": 3
   },
   "file_extension": ".py",
   "mimetype": "text/x-python",
   "name": "python",
   "nbconvert_exporter": "python",
   "pygments_lexer": "ipython3",
   "version": "3.10.2"
  }
 },
 "nbformat": 4,
 "nbformat_minor": 5
}
